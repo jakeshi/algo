{
  "nbformat": 4,
  "nbformat_minor": 0,
  "metadata": {
    "colab": {
      "provenance": [],
      "authorship_tag": "ABX9TyMuG6sakca9EJmvuaGAt7un",
      "include_colab_link": true
    },
    "kernelspec": {
      "name": "python3",
      "display_name": "Python 3"
    },
    "language_info": {
      "name": "python"
    }
  },
  "cells": [
    {
      "cell_type": "markdown",
      "metadata": {
        "id": "view-in-github",
        "colab_type": "text"
      },
      "source": [
        "<a href=\"https://colab.research.google.com/github/jakeshi/algo/blob/master/Data_Structure_%26_Algo_Practice.ipynb\" target=\"_parent\"><img src=\"https://colab.research.google.com/assets/colab-badge.svg\" alt=\"Open In Colab\"/></a>"
      ]
    },
    {
      "cell_type": "markdown",
      "source": [
        "Reference: https://blog.csdn.net/qsmx666/article/details/115433624"
      ],
      "metadata": {
        "id": "qqIzzuwjq4g8"
      }
    },
    {
      "cell_type": "code",
      "execution_count": 1,
      "metadata": {
        "colab": {
          "base_uri": "https://localhost:8080/"
        },
        "id": "wwd8V72_pMHZ",
        "outputId": "9368e73e-46b9-4501-c476-114815f35a65"
      },
      "outputs": [
        {
          "output_type": "stream",
          "name": "stdout",
          "text": [
            "1\n"
          ]
        }
      ],
      "source": [
        "print(ord('b')-ord('a'))"
      ]
    },
    {
      "cell_type": "code",
      "source": [
        "string = 'oh man'\n",
        "print (string[::-1])"
      ],
      "metadata": {
        "colab": {
          "base_uri": "https://localhost:8080/"
        },
        "id": "mTfnw7Njpi6E",
        "outputId": "6b534e52-2394-45e4-eb82-a0b057f18a42"
      },
      "execution_count": 2,
      "outputs": [
        {
          "output_type": "stream",
          "name": "stdout",
          "text": [
            "nam ho\n"
          ]
        }
      ]
    },
    {
      "cell_type": "code",
      "source": [
        "import collections\n",
        "li = [1,2,2,4,4,5]\n",
        "cnt = collections.Counter(li)\n",
        "print(cnt)"
      ],
      "metadata": {
        "colab": {
          "base_uri": "https://localhost:8080/"
        },
        "id": "hzPcWg6UpwWB",
        "outputId": "b1f2ad61-c97f-4214-ada6-392ab59dd17a"
      },
      "execution_count": 3,
      "outputs": [
        {
          "output_type": "stream",
          "name": "stdout",
          "text": [
            "Counter({2: 2, 4: 2, 1: 1, 5: 1})\n"
          ]
        }
      ]
    },
    {
      "cell_type": "markdown",
      "source": [
        "4. go through a dictionary"
      ],
      "metadata": {
        "id": "-UeWVyAJqmme"
      }
    },
    {
      "cell_type": "code",
      "source": [
        "cnt = {1:4,2:3}\n",
        "# go through each key: value pair\n",
        "for item in cnt.items():\n",
        "  print(item)\n",
        "\n",
        "print ('go through keys')\n",
        "\n",
        "for item in cnt.keys():\n",
        "  print(item)"
      ],
      "metadata": {
        "colab": {
          "base_uri": "https://localhost:8080/"
        },
        "id": "QnNJSalpqqiE",
        "outputId": "30475600-8d72-4af6-c4e9-a7887a06abde"
      },
      "execution_count": 9,
      "outputs": [
        {
          "output_type": "stream",
          "name": "stdout",
          "text": [
            "(1, 4)\n",
            "(2, 3)\n",
            "go through keys\n",
            "1\n",
            "2\n"
          ]
        }
      ]
    },
    {
      "cell_type": "markdown",
      "source": [
        "5. initialize 0 arrays"
      ],
      "metadata": {
        "id": "0IICnhOrrimj"
      }
    },
    {
      "cell_type": "code",
      "source": [
        "[0]*5"
      ],
      "metadata": {
        "colab": {
          "base_uri": "https://localhost:8080/"
        },
        "id": "ExbE6Uf5rrJ3",
        "outputId": "2107d9ff-c1d4-4403-e163-7eb25468ea64"
      },
      "execution_count": 5,
      "outputs": [
        {
          "output_type": "execute_result",
          "data": {
            "text/plain": [
              "[0, 0, 0, 0, 0]"
            ]
          },
          "metadata": {},
          "execution_count": 5
        }
      ]
    },
    {
      "cell_type": "code",
      "source": [
        "[0 for i in range(5)]"
      ],
      "metadata": {
        "colab": {
          "base_uri": "https://localhost:8080/"
        },
        "id": "ka4uar-urvGF",
        "outputId": "1ebee113-e7c3-445f-b65b-6b6c6ddc5371"
      },
      "execution_count": 6,
      "outputs": [
        {
          "output_type": "execute_result",
          "data": {
            "text/plain": [
              "[0, 0, 0, 0, 0]"
            ]
          },
          "metadata": {},
          "execution_count": 6
        }
      ]
    },
    {
      "cell_type": "code",
      "source": [
        "[[0]*3 for i in range(5)]"
      ],
      "metadata": {
        "colab": {
          "base_uri": "https://localhost:8080/"
        },
        "id": "c8UXNH-3r1qE",
        "outputId": "59a59d75-5bf6-4345-c0df-058d6dc148b1"
      },
      "execution_count": 7,
      "outputs": [
        {
          "output_type": "execute_result",
          "data": {
            "text/plain": [
              "[[0, 0, 0], [0, 0, 0], [0, 0, 0], [0, 0, 0], [0, 0, 0]]"
            ]
          },
          "metadata": {},
          "execution_count": 7
        }
      ]
    },
    {
      "cell_type": "markdown",
      "source": [
        "6. count"
      ],
      "metadata": {
        "id": "04Dm9W2fsADl"
      }
    },
    {
      "cell_type": "code",
      "source": [
        "from collections import Counter\n",
        "colors = ['blue','red']\n",
        "c = Counter(colors)\n",
        "print (c)\n",
        "print(dict(c))"
      ],
      "metadata": {
        "colab": {
          "base_uri": "https://localhost:8080/"
        },
        "id": "yoq_Y6kzr_h5",
        "outputId": "2b890e77-fc13-4851-ca32-a9a3edf9ec6c"
      },
      "execution_count": 8,
      "outputs": [
        {
          "output_type": "stream",
          "name": "stdout",
          "text": [
            "Counter({'blue': 1, 'red': 1})\n",
            "{'blue': 1, 'red': 1}\n"
          ]
        }
      ]
    },
    {
      "cell_type": "code",
      "source": [
        "c = Counter(a=3,b=1)\n",
        "print(c)"
      ],
      "metadata": {
        "colab": {
          "base_uri": "https://localhost:8080/"
        },
        "id": "AQD3wSmHsfrJ",
        "outputId": "ea942121-73c0-4b25-c110-ee579f5d3bcd"
      },
      "execution_count": 10,
      "outputs": [
        {
          "output_type": "stream",
          "name": "stdout",
          "text": [
            "Counter({'a': 3, 'b': 1})\n"
          ]
        }
      ]
    },
    {
      "cell_type": "code",
      "source": [
        "d = Counter(a=3,b=1)\n",
        "c+d"
      ],
      "metadata": {
        "colab": {
          "base_uri": "https://localhost:8080/"
        },
        "id": "Q5f1ylB0s8ru",
        "outputId": "c35aa6ac-1c7c-40d0-ac21-d8ef51f94a97"
      },
      "execution_count": 11,
      "outputs": [
        {
          "output_type": "execute_result",
          "data": {
            "text/plain": [
              "Counter({'a': 6, 'b': 2})"
            ]
          },
          "metadata": {},
          "execution_count": 11
        }
      ]
    }
  ]
}